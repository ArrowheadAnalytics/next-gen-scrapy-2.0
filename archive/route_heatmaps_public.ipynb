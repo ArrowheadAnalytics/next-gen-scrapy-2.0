{
 "cells": [
  {
   "cell_type": "markdown",
   "metadata": {},
   "source": [
    "# Next Gen Stats - Targeted Route Analysis"
   ]
  },
  {
   "cell_type": "markdown",
   "metadata": {},
   "source": [
    "## Set up"
   ]
  },
  {
   "cell_type": "code",
   "execution_count": null,
   "metadata": {},
   "outputs": [],
   "source": [
    "#Import your libraries\n",
    "import pandas as pd\n",
    "import seaborn as sns\n",
    "import numpy as np\n",
    "import matplotlib.pyplot as plt\n",
    "import os\n",
    "import urllib.request\n",
    "from matplotlib.offsetbox import OffsetImage, AnnotationBbox\n",
    "import matplotlib as mpl\n",
    "from scipy import stats\n",
    "from matplotlib import cm\n",
    "from matplotlib.colors import ListedColormap, LinearSegmentedColormap\n",
    "#Make prettier graphs\n",
    "%config InlineBackend.figure_format = 'retina'"
   ]
  },
  {
   "cell_type": "code",
   "execution_count": null,
   "metadata": {},
   "outputs": [],
   "source": [
    "#Load in the data\n",
    "route_locations = pd.read_csv('route_and_game_data.csv', low_memory=False)"
   ]
  },
  {
   "cell_type": "markdown",
   "metadata": {},
   "source": [
    "## Data cleaning/Formatting"
   ]
  },
  {
   "cell_type": "code",
   "execution_count": null,
   "metadata": {},
   "outputs": [],
   "source": [
    "#Get the number of games (or charts) for each receiver, \n",
    "#using two groupby functions (likely a more efficient way out there), so we\n",
    "#know how many games we're working with for each receiver\n",
    "games = route_locations.groupby(by=['name','game_id'])['x_coord','y_coord'].mean()\n",
    "player_games = games.groupby(by=['name'])['x_coord','y_coord'].count()\n",
    "player_games.reset_index(inplace=True)\n",
    "player_games.columns = ['name','games_played','na']\n",
    "#Merge this new games dataframe with the original route locations\n",
    "route_locations = pd.merge(route_locations,player_games, how='inner', on='name')"
   ]
  },
  {
   "cell_type": "markdown",
   "metadata": {},
   "source": [
    "## Kernel Density Estimate"
   ]
  },
  {
   "cell_type": "code",
   "execution_count": null,
   "metadata": {},
   "outputs": [],
   "source": [
    "#Helper function for our kernal density estimates\n",
    "def kde_helper(m1,m2):\n",
    "    '''Function to get data in the correct form for the KDE function\n",
    "    inputs: x_data, y_data, # of spaces for mesh grid\n",
    "    output: KDE applied to mesh grid, ready for plotting,\n",
    "    along with the boundaries of the data '''\n",
    "    #Set boundaries\n",
    "    xmin = m1.min()\n",
    "    xmax = m1.max()\n",
    "    ymin = m2.min()\n",
    "    ymax = m2.max()\n",
    "    #Creating a mesh grid dividing each yard in half (so 4 units in a square yard),\n",
    "    #between the boundaries of the x and y coordinates (values we care about) supplied\n",
    "    #By using the same size grid each time, all our outputs will sum to the same \n",
    "    #number (4, as they integrate to 1 and the field is divided into 4ths)\n",
    "    #this way, we can compare apples to apples\n",
    "    X, Y = np.mgrid[-30:30:121j, -10:55:131j]\n",
    "    #Unravel and stack these grids, giving a 2xn array of positions, where n = ^2\n",
    "    positions = np.vstack([X.ravel(), Y.ravel()])\n",
    "    #Stack the values we care about in a 2xn array\n",
    "    values = np.vstack([m1, m2])\n",
    "    #Perform the kernel estimation on the values we care about\n",
    "    kernel = stats.gaussian_kde(values)\n",
    "    #Generate probabilities at the positions specified, transpose them, and put them back into the grid shape for plotting\n",
    "    Z = np.reshape(kernel(positions).T, X.shape)\n",
    "    return Z, xmin, xmax, ymin, ymax"
   ]
  },
  {
   "cell_type": "code",
   "execution_count": null,
   "metadata": {},
   "outputs": [],
   "source": [
    "#here we only care about the precatch portion of the route - so no YAC route types\n",
    "route_locations = route_locations.loc[(route_locations['route_type']!='YAC')]"
   ]
  },
  {
   "cell_type": "markdown",
   "metadata": {},
   "source": [
    "### Select your player"
   ]
  },
  {
   "cell_type": "code",
   "execution_count": null,
   "metadata": {},
   "outputs": [],
   "source": [
    "#pick the WR you want to graph\n",
    "wr_name = 'Hopkins'\n",
    "wr = route_locations.loc[(route_locations['name'].str.contains(wr_name))]"
   ]
  },
  {
   "cell_type": "code",
   "execution_count": null,
   "metadata": {},
   "outputs": [],
   "source": [
    "%%time\n",
    "\n",
    "#Get data\n",
    "x = wr.loc[(wr['x_coord'].notnull())]\n",
    "y = wr.loc[(wr['y_coord'].notnull())]\n",
    "x=x['x_coord']\n",
    "y=y['y_coord']\n",
    "#Run function\n",
    "wr_kde, xmin, xmax, ymin, ymax = kde_helper(x,y)"
   ]
  },
  {
   "cell_type": "markdown",
   "metadata": {},
   "source": [
    "### Plotting"
   ]
  },
  {
   "cell_type": "code",
   "execution_count": null,
   "metadata": {},
   "outputs": [],
   "source": [
    "\n",
    "#Using my favorite plotting style, seaborn-talk\n",
    "plt.style.use('default')\n",
    "plt.style.use('seaborn-talk')\n",
    "\n",
    "xmin2 = -30\n",
    "xmax2 = -1*xmin2\n",
    "ymin2 = -10\n",
    "ymax2 = 55\n",
    "\n",
    "#This sets the max and min inline with what our data boundary is, \n",
    "#so we aren't stretching or shrinking the image at all\n",
    "plt.imshow(np.fliplr(np.rot90(wr_kde,3)),\n",
    "           origin='lower', aspect='equal',\n",
    "           extent=[xmin2, xmax2, ymin2, ymax2],\n",
    "           cmap='RdYlBu_r')\n",
    "\n",
    "\n",
    "\n",
    "\n",
    "#now we set the limits we actually want for our plot\n",
    "#I think 44 yards is a good upper limit, but do what you wish\n",
    "xmin2 = -30\n",
    "xmax2 = -1*xmin2\n",
    "ymin2 = -10\n",
    "ymax2 = 44\n",
    "\n",
    "cbar = plt.colorbar()\n",
    "cbar.set_label(\"Route Density\")\n",
    "\n",
    "#Axis limits\n",
    "plt.xlim([xmin2,xmax2])\n",
    "plt.ylim([ymin2, ymax2])\n",
    "#Y-axis label\n",
    "plt.ylabel('Yards from Line of Scrimmage')\n",
    "#Get rid of ticks\n",
    "plt.xticks([])\n",
    "plt.yticks([])\n",
    "\n",
    "#Annotations\n",
    "plt.axhline(0,c='k',ls='-',alpha=1,lw=3)\n",
    "\n",
    "for j in range(-7,ymax2-1,1):\n",
    "    plt.annotate('--', (-3.1,j-0.1),\n",
    "                 textcoords=\"offset points\",\n",
    "                 xytext=(0,5),\n",
    "                 ha='center',fontsize =10)\n",
    "    plt.annotate('--', (3.1,j-0.1),\n",
    "                 textcoords=\"offset points\",\n",
    "                 xytext=(0,5),\n",
    "                 ha='center',fontsize =10)\n",
    "    \n",
    "for i in range(-10,ymax2,5):\n",
    "    plt.axhline(i,c='k',ls='-',alpha=0.7, lw=1)\n",
    "    \n",
    "for i in range(-10,ymax2,10):\n",
    "    plt.axhline(i,c='k',ls='-',alpha=1, lw=1.5)\n",
    "    \n",
    "for i in range(10,ymax2-1,10):\n",
    "    plt.annotate(str(i), (-12.88,i-1.65),\n",
    "            textcoords=\"offset points\",\n",
    "            xytext=(0,5),\n",
    "            ha='center',fontsize =15,\n",
    "                rotation=270)\n",
    "    plt.annotate(str(i), (12.88,i-1.2),\n",
    "            textcoords=\"offset points\",\n",
    "            xytext=(0,5),\n",
    "            ha='center',fontsize =15,\n",
    "                rotation=90)\n",
    " \n",
    "plt.annotate('Line of Scrimmage', (16,0),\n",
    "             textcoords=\"offset points\", # how to position the text\n",
    "                 xytext=(0,5), # distance from text to points (x,y)\n",
    "                 ha='center',fontsize = 15) # horizontal alignment can be left, right or center\n",
    "#Final touches\n",
    "title = wr_name + ' Targeted Route Heat Map 2019'\n",
    "plt.title(title,fontsize=15)\n",
    "\n",
    "\n",
    "#If you make changes to the chart of course feel free to delete the chart template attribution,\n",
    "#but please credit NGS and next-gen-scrapy for the data in any uses\n",
    "txt=\"Data: Next Gen Stats via next-gen-scrapy2.0 | Chart Template: @chiefsanalytics\"\n",
    "plt.figtext(0.5, 0.03, txt, wrap=True, horizontalalignment='center', fontsize=12)\n",
    "plt.show()"
   ]
  },
  {
   "cell_type": "code",
   "execution_count": null,
   "metadata": {},
   "outputs": [],
   "source": []
  }
 ],
 "metadata": {
  "kernelspec": {
   "display_name": "Python 3",
   "language": "python",
   "name": "python3"
  },
  "language_info": {
   "codemirror_mode": {
    "name": "ipython",
    "version": 3
   },
   "file_extension": ".py",
   "mimetype": "text/x-python",
   "name": "python",
   "nbconvert_exporter": "python",
   "pygments_lexer": "ipython3",
   "version": "3.6.8"
  }
 },
 "nbformat": 4,
 "nbformat_minor": 2
}
